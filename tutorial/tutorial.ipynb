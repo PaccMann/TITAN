{
 "cells": [
  {
   "cell_type": "code",
   "execution_count": 108,
   "metadata": {},
   "outputs": [
    {
     "name": "stdout",
     "output_type": "stream",
     "text": [
      "Collecting pytoda==1.0.2\n",
      "  Using cached pytoda-1.0.2-py3-none-any.whl (157 kB)\n",
      "Collecting selfies>=2.0.0\n",
      "  Using cached selfies-2.0.0-py3-none-any.whl (33 kB)\n",
      "Collecting Unidecode\n",
      "  Using cached Unidecode-1.3.4-py3-none-any.whl (235 kB)\n",
      "Collecting importlib-resources\n",
      "  Using cached importlib_resources-5.7.1-py3-none-any.whl (28 kB)\n",
      "Requirement already satisfied: torch>=1.4.0 in /Users/wbr/opt/anaconda3/envs/titan/lib/python3.7/site-packages (from pytoda==1.0.2) (1.9.0)\n",
      "Requirement already satisfied: pandas in /Users/wbr/opt/anaconda3/envs/titan/lib/python3.7/site-packages (from pytoda==1.0.2) (1.3.2)\n",
      "Requirement already satisfied: dill>=0.3.3 in /Users/wbr/opt/anaconda3/envs/titan/lib/python3.7/site-packages (from pytoda==1.0.2) (0.3.4)\n",
      "Requirement already satisfied: pyfaidx in /Users/wbr/opt/anaconda3/envs/titan/lib/python3.7/site-packages (from pytoda==1.0.2) (0.6.1)\n",
      "Requirement already satisfied: upfp in /Users/wbr/opt/anaconda3/envs/titan/lib/python3.7/site-packages (from pytoda==1.0.2) (0.0.5)\n",
      "Collecting rdkit-pypi>=2021.9.3\n",
      "  Using cached rdkit_pypi-2022.3.2.1-cp37-cp37m-macosx_10_9_x86_64.whl (17.7 MB)\n",
      "Requirement already satisfied: SmilesPE>=0.0.3 in /Users/wbr/opt/anaconda3/envs/titan/lib/python3.7/site-packages (from pytoda==1.0.2) (0.0.3)\n",
      "Requirement already satisfied: diskcache in /Users/wbr/opt/anaconda3/envs/titan/lib/python3.7/site-packages (from pytoda==1.0.2) (5.2.1)\n",
      "Requirement already satisfied: numpy in /Users/wbr/opt/anaconda3/envs/titan/lib/python3.7/site-packages (from pytoda==1.0.2) (1.20.3)\n",
      "Requirement already satisfied: pubchempy in /Users/wbr/opt/anaconda3/envs/titan/lib/python3.7/site-packages (from pytoda==1.0.2) (1.0.4)\n",
      "Requirement already satisfied: scikit-learn in /Users/wbr/opt/anaconda3/envs/titan/lib/python3.7/site-packages (from pytoda==1.0.2) (0.22.2)\n",
      "Requirement already satisfied: Pillow in /Users/wbr/opt/anaconda3/envs/titan/lib/python3.7/site-packages (from rdkit-pypi>=2021.9.3->pytoda==1.0.2) (8.3.1)\n",
      "Requirement already satisfied: fastprogress in /Users/wbr/opt/anaconda3/envs/titan/lib/python3.7/site-packages (from SmilesPE>=0.0.3->pytoda==1.0.2) (1.0.0)\n",
      "Requirement already satisfied: gensim in /Users/wbr/opt/anaconda3/envs/titan/lib/python3.7/site-packages (from SmilesPE>=0.0.3->pytoda==1.0.2) (4.0.1)\n",
      "Requirement already satisfied: typing-extensions in /Users/wbr/opt/anaconda3/envs/titan/lib/python3.7/site-packages (from torch>=1.4.0->pytoda==1.0.2) (3.10.0.0)\n",
      "Requirement already satisfied: smart-open>=1.8.1 in /Users/wbr/opt/anaconda3/envs/titan/lib/python3.7/site-packages (from gensim->SmilesPE>=0.0.3->pytoda==1.0.2) (5.1.0)\n",
      "Requirement already satisfied: scipy>=0.18.1 in /Users/wbr/opt/anaconda3/envs/titan/lib/python3.7/site-packages (from gensim->SmilesPE>=0.0.3->pytoda==1.0.2) (1.5.4)\n",
      "Requirement already satisfied: zipp>=3.1.0 in /Users/wbr/opt/anaconda3/envs/titan/lib/python3.7/site-packages (from importlib-resources->pytoda==1.0.2) (3.5.0)\n",
      "Requirement already satisfied: python-dateutil>=2.7.3 in /Users/wbr/opt/anaconda3/envs/titan/lib/python3.7/site-packages (from pandas->pytoda==1.0.2) (2.8.2)\n",
      "Requirement already satisfied: pytz>=2017.3 in /Users/wbr/opt/anaconda3/envs/titan/lib/python3.7/site-packages (from pandas->pytoda==1.0.2) (2021.1)\n",
      "Requirement already satisfied: six>=1.5 in /Users/wbr/opt/anaconda3/envs/titan/lib/python3.7/site-packages (from python-dateutil>=2.7.3->pandas->pytoda==1.0.2) (1.16.0)\n",
      "Requirement already satisfied: setuptools>=0.7 in /Users/wbr/opt/anaconda3/envs/titan/lib/python3.7/site-packages (from pyfaidx->pytoda==1.0.2) (52.0.0.post20210125)\n",
      "Requirement already satisfied: joblib>=0.11 in /Users/wbr/opt/anaconda3/envs/titan/lib/python3.7/site-packages (from scikit-learn->pytoda==1.0.2) (1.0.1)\n",
      "^C\n",
      "\u001b[31mERROR: Operation cancelled by user\u001b[0m\n",
      "Collecting git+https://github.com/PaccMann/paccmann_predictor@0.0.4\n",
      "  Cloning https://github.com/PaccMann/paccmann_predictor (to revision 0.0.4) to /private/var/folders/y1/ytzb8zcd58sdrlw9vkbjw9wc0000kp/T/pip-req-build-p7lbnh3h\n",
      "  Running command git clone -q https://github.com/PaccMann/paccmann_predictor /private/var/folders/y1/ytzb8zcd58sdrlw9vkbjw9wc0000kp/T/pip-req-build-p7lbnh3h\n",
      "  Running command git checkout -q 0e7e321d6bee733d9b182e8762bbb0c87a3f3ca8\n",
      "Requirement already satisfied: numpy in /Users/wbr/opt/anaconda3/envs/titan/lib/python3.7/site-packages (from paccmann-predictor==0.0.4) (1.20.3)\n",
      "Requirement already satisfied: scipy in /Users/wbr/opt/anaconda3/envs/titan/lib/python3.7/site-packages (from paccmann-predictor==0.0.4) (1.5.4)\n",
      "Requirement already satisfied: torch>=1.0.0 in /Users/wbr/opt/anaconda3/envs/titan/lib/python3.7/site-packages (from paccmann-predictor==0.0.4) (1.9.0)\n",
      "Requirement already satisfied: typing-extensions in /Users/wbr/opt/anaconda3/envs/titan/lib/python3.7/site-packages (from torch>=1.0.0->paccmann-predictor==0.0.4) (3.10.0.0)\n",
      "Requirement already satisfied: pandas in /Users/wbr/opt/anaconda3/envs/titan/lib/python3.7/site-packages (1.3.2)\n",
      "Requirement already satisfied: numpy>=1.17.3 in /Users/wbr/opt/anaconda3/envs/titan/lib/python3.7/site-packages (from pandas) (1.20.3)\n",
      "Requirement already satisfied: python-dateutil>=2.7.3 in /Users/wbr/opt/anaconda3/envs/titan/lib/python3.7/site-packages (from pandas) (2.8.2)\n",
      "Requirement already satisfied: pytz>=2017.3 in /Users/wbr/opt/anaconda3/envs/titan/lib/python3.7/site-packages (from pandas) (2021.1)\n",
      "Requirement already satisfied: six>=1.5 in /Users/wbr/opt/anaconda3/envs/titan/lib/python3.7/site-packages (from python-dateutil>=2.7.3->pandas) (1.16.0)\n",
      "Collecting rdkit-pypi\n",
      "  Using cached rdkit_pypi-2022.3.2.1-cp37-cp37m-macosx_10_9_x86_64.whl (17.7 MB)\n",
      "Requirement already satisfied: numpy in /Users/wbr/opt/anaconda3/envs/titan/lib/python3.7/site-packages (from rdkit-pypi) (1.20.3)\n",
      "Requirement already satisfied: Pillow in /Users/wbr/opt/anaconda3/envs/titan/lib/python3.7/site-packages (from rdkit-pypi) (8.3.1)\n",
      "Installing collected packages: rdkit-pypi\n",
      "Successfully installed rdkit-pypi-2022.3.2.1\n"
     ]
    }
   ],
   "source": [
    "# Notebook is intended to run on Google Colab\n",
    "# Install packages\n",
    "!pip install pytoda==1.0.2\n",
    "!pip install git+https://github.com/PaccMann/paccmann_predictor@0.0.4\n",
    "!pip install torch>=1.4\n",
    "!pip install numpy>=1.16.1\n",
    "!pip install pandas\n",
    "!pip install scikit-learn>=0.22.2\n",
    "!pip install seaborn>=0.9.0\n",
    "!pip install matplotlib>=3.1.1\n",
    "!pip install rdkit-pypi"
   ]
  },
  {
   "cell_type": "code",
   "execution_count": 1,
   "metadata": {},
   "outputs": [],
   "source": [
    "# Import packages\n",
    "import os\n",
    "import numpy as np\n",
    "import torch\n",
    "import json\n",
    "\n",
    "from paccmann_predictor.models import MODEL_FACTORY\n",
    "from paccmann_predictor.utils.utils import get_device\n",
    "from pytoda.datasets import (\n",
    "    DrugAffinityDataset, ProteinProteinInteractionDataset\n",
    ")\n",
    "from pytoda.proteins import ProteinFeatureLanguage, ProteinLanguage\n",
    "from pytoda.smiles.smiles_language import SMILESTokenizer\n",
    "\n",
    "from sklearn.metrics import (\n",
    "    auc, average_precision_score, precision_recall_curve, roc_curve\n",
    ")\n",
    "\n",
    "import matplotlib.pyplot as plt\n",
    "import matplotlib as mpl\n",
    "import matplotlib.cm as cm\n",
    "\n",
    "device = get_device()"
   ]
  },
  {
   "cell_type": "code",
   "execution_count": null,
   "metadata": {},
   "outputs": [],
   "source": [
    "# Mount Drive\n",
    "from google.colab import drive\n",
    "drive.mount('/content/drive')\n",
    "root = '/content/drive/My Drive/tutorial'"
   ]
  },
  {
   "cell_type": "code",
   "execution_count": 2,
   "metadata": {},
   "outputs": [],
   "source": [
    "# Read in data\n",
    "tcrs = os.path.join(root, 'tcr_full.csv')\n",
    "epitopes = os.path.join(root, 'epitopes.smi')\n",
    "test_data = os.path.join(root, 'test.csv')\n",
    "model_path = os.path.join(root, 'TITAN_small')"
   ]
  },
  {
   "cell_type": "code",
   "execution_count": 3,
   "metadata": {},
   "outputs": [],
   "source": [
    "# Process parameter file:\n",
    "params_filepath = os.path.join(model_path, 'model_params.json')\n",
    "params = {}\n",
    "with open(params_filepath) as fp:\n",
    "    params.update(json.load(fp))"
   ]
  },
  {
   "cell_type": "code",
   "execution_count": 4,
   "metadata": {},
   "outputs": [],
   "source": [
    "# Load languages\n",
    "smiles_language = SMILESTokenizer.from_pretrained(model_path)\n",
    "smiles_language.set_encoding_transforms(\n",
    "    randomize=None,\n",
    "    add_start_and_stop=params.get('ligand_start_stop_token', True),\n",
    "    padding=params.get('ligand_padding', True),\n",
    "    padding_length=params.get('ligand_padding_length', True),\n",
    "    device=device,\n",
    ")\n",
    "smiles_language.set_smiles_transforms(\n",
    "    augment=False,\n",
    ")\n",
    "if params.get('receptor_embedding', 'learned') == 'predefined':\n",
    "    protein_language = ProteinFeatureLanguage.load(\n",
    "        os.path.join(model_path, 'protein_language.pkl')\n",
    "    )\n",
    "else:\n",
    "    protein_language = ProteinLanguage.load(\n",
    "        os.path.join(model_path, 'protein_language.pkl')\n",
    "    )"
   ]
  },
  {
   "cell_type": "code",
   "execution_count": 5,
   "metadata": {},
   "outputs": [],
   "source": [
    "# Load the data\n",
    "test_dataset = DrugAffinityDataset(\n",
    "    drug_affinity_filepath=test_data,\n",
    "    smi_filepath=epitopes,\n",
    "    protein_filepath=tcrs,\n",
    "    smiles_language=smiles_language,\n",
    "    protein_language=protein_language,\n",
    "    smiles_padding=params.get('ligand_padding', True),\n",
    "    smiles_padding_length=params.get('ligand_padding_length', None),\n",
    "    smiles_add_start_and_stop=params.get(\n",
    "        'ligand_add_start_stop', True\n",
    "    ),\n",
    "    protein_padding=params.get('receptor_padding', True),\n",
    "    protein_padding_length=params.get('receptor_padding_length', None),\n",
    "    protein_add_start_and_stop=params.get(\n",
    "        'receptor_add_start_stop', True\n",
    "    ),\n",
    "    device=device,\n",
    "    drug_affinity_dtype=torch.float,\n",
    "    backend='eager',\n",
    "    iterate_dataset=True\n",
    ")\n",
    "\n",
    "test_loader = torch.utils.data.DataLoader(\n",
    "    dataset=test_dataset,\n",
    "    batch_size=10,\n",
    "    shuffle=False,\n",
    "    drop_last=False,\n",
    "    num_workers=params.get('num_workers', 0)\n",
    ")"
   ]
  },
  {
   "cell_type": "code",
   "execution_count": 6,
   "metadata": {},
   "outputs": [
    {
     "name": "stdout",
     "output_type": "stream",
     "text": [
      "Found existing model, restoring now...\n",
      "model loaded: /Users/wbr/Library/CloudStorage/Box-Box/Molecular_SysBio/data/paccmann/TITAN/public/tutorial/TITAN_small/weights/done_training_bimodal_mca.pt\n"
     ]
    }
   ],
   "source": [
    "# Load the Model\n",
    "model_fn = params.get('model_fn', 'bimodal_mca')\n",
    "model = MODEL_FACTORY[model_fn](params).to(device)\n",
    "model._associate_language(smiles_language)\n",
    "model._associate_language(protein_language)\n",
    "\n",
    "model_file = os.path.join(\n",
    "    model_path, 'weights', 'done_training_bimodal_mca.pt'\n",
    ")\n",
    "\n",
    "\n",
    "if os.path.isfile(model_file):\n",
    "    print('Found existing model, restoring now...')\n",
    "    model.load(model_file, map_location=device)\n",
    "    print(f'model loaded: {model_file}')"
   ]
  },
  {
   "cell_type": "code",
   "execution_count": 7,
   "metadata": {},
   "outputs": [
    {
     "name": "stdout",
     "output_type": "stream",
     "text": [
      "ROC AUC 0.7510430758276967\n"
     ]
    }
   ],
   "source": [
    "# Measure validation performance\n",
    "loss_validation = []\n",
    "model.eval()\n",
    "with torch.no_grad():\n",
    "    test_loss = 0\n",
    "    predictions = []\n",
    "    labels = []\n",
    "    tcr_attention = []\n",
    "    tcr_id = []\n",
    "    for ind, (ligand, receptors, y) in enumerate(test_loader):\n",
    "        y_hat, pred_dict = model(ligand.to(device), receptors.to(device))\n",
    "        predictions.append(y_hat)\n",
    "        labels.append(y.clone())\n",
    "        loss = model.loss(y_hat, y.to(device))\n",
    "        test_loss += loss.item()\n",
    "        tcr_attention.append(pred_dict['receptor_attention'])\n",
    "        tcr_id.append(receptors)\n",
    "\n",
    "predictions = torch.cat(predictions, dim=0).flatten().cpu().numpy()\n",
    "labels = torch.cat(labels, dim=0).flatten().cpu().numpy()\n",
    "loss_validation.append(test_loss / len(test_loader))\n",
    "tcr_attention = torch.cat(tcr_attention, dim=0).cpu().numpy()\n",
    "tcr_id = torch.cat(tcr_id, dim=0).cpu().numpy()\n",
    "\n",
    "test_loss = test_loss / len(test_loader)\n",
    "fpr, tpr, _ = roc_curve(labels, predictions)\n",
    "precision, recall, _ = precision_recall_curve(labels, predictions)\n",
    "test_roc_auc = auc(fpr, tpr)\n",
    "print('ROC AUC', test_roc_auc)"
   ]
  },
  {
   "cell_type": "code",
   "execution_count": 15,
   "metadata": {},
   "outputs": [
    {
     "data": {
      "image/png": "[encoded data removed]",
      "text/plain": [
       "<Figure size 720x288 with 2 Axes>"
      ]
     },
     "metadata": {
      "needs_background": "light"
     },
     "output_type": "display_data"
    }
   ],
   "source": [
    "# Plot Evaluation Results\n",
    "fig, (ax1, ax2) = plt.subplots(1, 2, figsize=(10,4))\n",
    "ax1.plot(fpr, tpr)\n",
    "ax1.set_title('ROC Curve')\n",
    "ax1.set_ylabel('TPR')\n",
    "ax1.set_xlabel('FPR')\n",
    "ax2.plot(precision, recall)\n",
    "ax2.set_title('PR Curve')\n",
    "ax2.set_ylabel('Recall')\n",
    "ax2.set_xlabel('Precision')\n",
    "plt.tight_layout()"
   ]
  },
  {
   "cell_type": "code",
   "execution_count": null,
   "metadata": {},
   "outputs": [],
   "source": [
    "def find_colors(attention, text):\n",
    "    normalize = mpl.colors.Normalize(\n",
    "            vmin=min(attention),\n",
    "            vmax=max(attention)\n",
    "        )\n",
    "\n",
    "    color_mapper = cm.ScalarMappable(\n",
    "        norm=normalize, cmap=plt.cm.Oranges\n",
    "    )\n",
    "\n",
    "    colors = color_mapper.to_rgba(attention, alpha=1.)\n",
    "    if text:\n",
    "        colors = [(x[0]*255,x[1]*255,x[2]*255) for x in colors]\n",
    "    return(colors)"
   ]
  },
  {
   "cell_type": "code",
   "execution_count": null,
   "metadata": {},
   "outputs": [],
   "source": [
    "from IPython.core.display import display, HTML\n",
    "import html \n",
    "\n",
    "def html_escape(text):\n",
    "    return html.escape(text)\n",
    "\n",
    "def highlight_text(text, colors, start_underline, end_underline):\n",
    "    highlighted_text = []\n",
    "    for i in range(len(text)):\n",
    "        if i in start_underline:\n",
    "            highlighted_text.append('<u>'\n",
    "                                    +'<span style=\"font-family:courier; background-color:rgba(' \n",
    "                                    + str(int(colors[i][0])) + ','\n",
    "                                    + str(int(colors[i][1])) + ','\n",
    "                                    + str(int(colors[i][2])) + ');\">' \n",
    "                                    + html_escape(text[i])\n",
    "                                    + '</span>')\n",
    "        elif i in end_underline:\n",
    "            highlighted_text.append('<span style=\"font-family:courier; background-color:rgba(' \n",
    "                                    + str(int(colors[i][0])) + ','\n",
    "                                    + str(int(colors[i][1])) + ','\n",
    "                                    + str(int(colors[i][2])) + ');\">' \n",
    "                                    + html_escape(text[i])\n",
    "                                    + '</span>'\n",
    "                                    + '</u>')\n",
    "        else:\n",
    "            highlighted_text.append('<span style=\"font-family:courier;background-color:rgba(' \n",
    "                                + str(int(colors[i][0])) + ','\n",
    "                                + str(int(colors[i][1])) + ','\n",
    "                                + str(int(colors[i][2])) + ');\">' \n",
    "                                + html_escape(text[i])\n",
    "                                + '</span>')\n",
    "    highlighted_text = ' '.join(highlighted_text)\n",
    "    return highlighted_text"
   ]
  },
  {
   "cell_type": "code",
   "execution_count": null,
   "metadata": {},
   "outputs": [],
   "source": [
    "show_aas = 50\n",
    "cutoff = 130-show_aas"
   ]
  },
  {
   "cell_type": "code",
   "execution_count": null,
   "metadata": {},
   "outputs": [],
   "source": [
    "# Extract Attention Scores\n",
    "tokens = []\n",
    "for i in range(len(tcr_id)):\n",
    "    t = []\n",
    "    for i,x in enumerate(tcr_id[i]):\n",
    "        if i > cutoff:\n",
    "            if protein_language.index_to_token[x] == '<PAD>':\n",
    "                token = '0'\n",
    "            elif protein_language.index_to_token[x] == '<START>' or protein_language.index_to_token[x] == '<STOP>':\n",
    "                token = '1'\n",
    "            else:\n",
    "                token = protein_language.index_to_token[x]\n",
    "            t.append(token)\n",
    "    tokens.append(t)"
   ]
  },
  {
   "cell_type": "code",
   "execution_count": null,
   "metadata": {},
   "outputs": [
    {
     "data": {
      "text/html": [
       "<span style=\"font-family:courier;background-color:rgba(254,237,221);\">A</span> <span style=\"font-family:courier;background-color:rgba(254,242,229);\">A</span> <span style=\"font-family:courier;background-color:rgba(254,240,225);\">A</span> <span style=\"font-family:courier;background-color:rgba(254,241,227);\">A</span> <span style=\"font-family:courier;background-color:rgba(255,245,235);\">A</span> <span style=\"font-family:courier;background-color:rgba(254,241,228);\">A</span> <span style=\"font-family:courier;background-color:rgba(254,241,227);\">A</span> <span style=\"font-family:courier;background-color:rgba(254,239,224);\">A</span> <span style=\"font-family:courier;background-color:rgba(254,241,228);\">A</span> <span style=\"font-family:courier;background-color:rgba(254,240,226);\">A</span> <span style=\"font-family:courier;background-color:rgba(254,241,227);\">A</span> <span style=\"font-family:courier;background-color:rgba(254,242,229);\">A</span> <span style=\"font-family:courier;background-color:rgba(254,243,232);\">A</span> <span style=\"font-family:courier;background-color:rgba(254,242,229);\">A</span> <span style=\"font-family:courier;background-color:rgba(254,238,222);\">A</span> <span style=\"font-family:courier;background-color:rgba(254,240,226);\">A</span> <span style=\"font-family:courier;background-color:rgba(254,240,225);\">A</span> <span style=\"font-family:courier;background-color:rgba(254,242,230);\">A</span> <span style=\"font-family:courier;background-color:rgba(254,242,230);\">A</span> <span style=\"font-family:courier;background-color:rgba(254,244,234);\">A</span> <span style=\"font-family:courier;background-color:rgba(254,241,227);\">A</span> <span style=\"font-family:courier;background-color:rgba(254,236,218);\">A</span> <span style=\"font-family:courier;background-color:rgba(254,239,224);\">A</span> <span style=\"font-family:courier;background-color:rgba(254,242,229);\">A</span> <span style=\"font-family:courier;background-color:rgba(254,244,233);\">A</span> <span style=\"font-family:courier;background-color:rgba(254,243,232);\">A</span> <span style=\"font-family:courier;background-color:rgba(254,241,228);\">A</span> <span style=\"font-family:courier;background-color:rgba(254,238,223);\">A</span> <span style=\"font-family:courier;background-color:rgba(254,237,221);\">A</span> <span style=\"font-family:courier;background-color:rgba(254,243,231);\">A</span> <span style=\"font-family:courier;background-color:rgba(254,243,232);\">A</span> <span style=\"font-family:courier;background-color:rgba(254,244,233);\">A</span> <span style=\"font-family:courier;background-color:rgba(254,237,221);\">A</span> <span style=\"font-family:courier;background-color:rgba(254,236,217);\">A</span> <span style=\"font-family:courier;background-color:rgba(254,239,224);\">A</span> <span style=\"font-family:courier;background-color:rgba(254,239,224);\">A</span> <span style=\"font-family:courier;background-color:rgba(254,241,228);\">A</span> <span style=\"font-family:courier;background-color:rgba(254,238,222);\">A</span> <span style=\"font-family:courier;background-color:rgba(254,241,228);\">A</span> <span style=\"font-family:courier;background-color:rgba(254,242,230);\">A</span> <span style=\"font-family:courier;background-color:rgba(254,241,227);\">A</span> <span style=\"font-family:courier;background-color:rgba(254,240,226);\">A</span> <span style=\"font-family:courier;background-color:rgba(254,240,226);\">A</span> <span style=\"font-family:courier;background-color:rgba(254,239,224);\">A</span> <span style=\"font-family:courier;background-color:rgba(254,240,225);\">A</span> <span style=\"font-family:courier;background-color:rgba(254,240,226);\">A</span> <span style=\"font-family:courier;background-color:rgba(254,241,227);\">A</span> <span style=\"font-family:courier;background-color:rgba(254,241,227);\">A</span> <span style=\"font-family:courier;background-color:rgba(254,241,227);\">1</span>"
      ],
      "text/plain": [
       "<IPython.core.display.HTML object>"
      ]
     },
     "metadata": {},
     "output_type": "display_data"
    },
    {
     "data": {
      "text/html": [
       "<span style=\"font-family:courier;background-color:rgba(253,228,203);\">A</span> <span style=\"font-family:courier;background-color:rgba(254,230,206);\">A</span> <span style=\"font-family:courier;background-color:rgba(253,229,205);\">A</span> <span style=\"font-family:courier;background-color:rgba(254,230,206);\">A</span> <span style=\"font-family:courier;background-color:rgba(254,231,208);\">A</span> <span style=\"font-family:courier;background-color:rgba(254,230,206);\">A</span> <span style=\"font-family:courier;background-color:rgba(254,230,206);\">A</span> <span style=\"font-family:courier;background-color:rgba(253,229,205);\">A</span> <span style=\"font-family:courier;background-color:rgba(254,230,206);\">A</span> <span style=\"font-family:courier;background-color:rgba(253,229,205);\">A</span> <span style=\"font-family:courier;background-color:rgba(254,230,206);\">A</span> <span style=\"font-family:courier;background-color:rgba(254,230,206);\">A</span> <span style=\"font-family:courier;background-color:rgba(254,230,207);\">A</span> <span style=\"font-family:courier;background-color:rgba(254,230,206);\">A</span> <span style=\"font-family:courier;background-color:rgba(253,229,204);\">A</span> <span style=\"font-family:courier;background-color:rgba(253,229,205);\">A</span> <span style=\"font-family:courier;background-color:rgba(253,229,205);\">A</span> <span style=\"font-family:courier;background-color:rgba(254,230,207);\">A</span> <span style=\"font-family:courier;background-color:rgba(254,230,206);\">A</span> <span style=\"font-family:courier;background-color:rgba(254,231,208);\">A</span> <span style=\"font-family:courier;background-color:rgba(254,230,206);\">A</span> <span style=\"font-family:courier;background-color:rgba(253,227,201);\">A</span> <span style=\"font-family:courier;background-color:rgba(253,229,205);\">A</span> <span style=\"font-family:courier;background-color:rgba(254,230,206);\">C</span> <span style=\"font-family:courier;background-color:rgba(253,169,100);\">S</span> <span style=\"font-family:courier;background-color:rgba(254,234,214);\">A</span> <span style=\"font-family:courier;background-color:rgba(254,230,206);\">T</span> <span style=\"font-family:courier;background-color:rgba(253,212,171);\">I</span> <span style=\"font-family:courier;background-color:rgba(255,245,235);\">L</span> <span style=\"font-family:courier;background-color:rgba(253,190,133);\">A</span> <span style=\"font-family:courier;background-color:rgba(254,230,207);\">G</span> <span style=\"font-family:courier;background-color:rgba(253,182,120);\">V</span> <span style=\"font-family:courier;background-color:rgba(253,192,137);\">P</span> <span style=\"font-family:courier;background-color:rgba(253,181,118);\">Y</span> <span style=\"font-family:courier;background-color:rgba(253,162,90);\">G</span> <span style=\"font-family:courier;background-color:rgba(253,180,116);\">E</span> <span style=\"font-family:courier;background-color:rgba(254,240,226);\">Q</span> <span style=\"font-family:courier;background-color:rgba(161,52,3);\">Y</span> <span style=\"font-family:courier;background-color:rgba(253,164,93);\">F</span> <span style=\"font-family:courier;background-color:rgba(253,229,204);\">G</span> <span style=\"font-family:courier;background-color:rgba(253,180,116);\">P</span> <span style=\"font-family:courier;background-color:rgba(253,184,123);\">G</span> <span style=\"font-family:courier;background-color:rgba(253,180,116);\">T</span> <span style=\"font-family:courier;background-color:rgba(253,213,172);\">R</span> <span style=\"font-family:courier;background-color:rgba(127,39,4);\">L</span> <span style=\"font-family:courier;background-color:rgba(253,189,132);\">T</span> <span style=\"font-family:courier;background-color:rgba(253,214,174);\">V</span> <span style=\"font-family:courier;background-color:rgba(253,194,140);\">T</span> <span style=\"font-family:courier;background-color:rgba(253,214,174);\">1</span>"
      ],
      "text/plain": [
       "<IPython.core.display.HTML object>"
      ]
     },
     "metadata": {},
     "output_type": "display_data"
    },
    {
     "data": {
      "text/html": [
       "<span style=\"font-family:courier;background-color:rgba(252,140,59);\">0</span> <span style=\"font-family:courier;background-color:rgba(253,149,72);\">0</span> <span style=\"font-family:courier;background-color:rgba(253,145,66);\">0</span> <span style=\"font-family:courier;background-color:rgba(253,148,71);\">0</span> <span style=\"font-family:courier;background-color:rgba(253,157,82);\">0</span> <span style=\"font-family:courier;background-color:rgba(253,149,72);\">0</span> <span style=\"font-family:courier;background-color:rgba(253,148,71);\">0</span> <span style=\"font-family:courier;background-color:rgba(253,144,65);\">0</span> <span style=\"font-family:courier;background-color:rgba(253,148,71);\">0</span> <span style=\"font-family:courier;background-color:rgba(253,146,68);\">0</span> <span style=\"font-family:courier;background-color:rgba(253,147,69);\">0</span> <span style=\"font-family:courier;background-color:rgba(253,150,74);\">0</span> <span style=\"font-family:courier;background-color:rgba(253,152,76);\">0</span> <span style=\"font-family:courier;background-color:rgba(253,149,72);\">0</span> <span style=\"font-family:courier;background-color:rgba(253,141,60);\">0</span> <span style=\"font-family:courier;background-color:rgba(253,146,68);\">0</span> <span style=\"font-family:courier;background-color:rgba(253,145,66);\">0</span> <span style=\"font-family:courier;background-color:rgba(253,151,75);\">0</span> <span style=\"font-family:courier;background-color:rgba(253,150,74);\">0</span> <span style=\"font-family:courier;background-color:rgba(253,156,81);\">0</span> <span style=\"font-family:courier;background-color:rgba(253,147,69);\">0</span> <span style=\"font-family:courier;background-color:rgba(251,137,55);\">0</span> <span style=\"font-family:courier;background-color:rgba(253,144,65);\">0</span> <span style=\"font-family:courier;background-color:rgba(253,149,72);\">0</span> <span style=\"font-family:courier;background-color:rgba(253,153,78);\">0</span> <span style=\"font-family:courier;background-color:rgba(253,152,76);\">0</span> <span style=\"font-family:courier;background-color:rgba(253,148,71);\">0</span> <span style=\"font-family:courier;background-color:rgba(253,142,62);\">0</span> <span style=\"font-family:courier;background-color:rgba(252,140,59);\">0</span> <span style=\"font-family:courier;background-color:rgba(253,151,75);\">0</span> <span style=\"font-family:courier;background-color:rgba(253,152,76);\">0</span> <span style=\"font-family:courier;background-color:rgba(253,154,79);\">0</span> <span style=\"font-family:courier;background-color:rgba(252,140,59);\">0</span> <span style=\"font-family:courier;background-color:rgba(251,135,54);\">0</span> <span style=\"font-family:courier;background-color:rgba(253,143,63);\">0</span> <span style=\"font-family:courier;background-color:rgba(253,145,66);\">0</span> <span style=\"font-family:courier;background-color:rgba(253,149,72);\">0</span> <span style=\"font-family:courier;background-color:rgba(253,141,60);\">0</span> <span style=\"font-family:courier;background-color:rgba(253,148,71);\">0</span> <span style=\"font-family:courier;background-color:rgba(253,151,75);\">0</span> <span style=\"font-family:courier;background-color:rgba(253,147,69);\">0</span> <span style=\"font-family:courier;background-color:rgba(253,146,68);\">0</span> <span style=\"font-family:courier;background-color:rgba(253,146,68);\">0</span> <span style=\"font-family:courier;background-color:rgba(253,144,65);\">0</span> <span style=\"font-family:courier;background-color:rgba(253,145,66);\">0</span> <span style=\"font-family:courier;background-color:rgba(253,147,69);\">0</span> <span style=\"font-family:courier;background-color:rgba(253,148,71);\">1</span> <span style=\"font-family:courier;background-color:rgba(254,242,229);\">A</span> <span style=\"font-family:courier;background-color:rgba(255,245,235);\">1</span>"
      ],
      "text/plain": [
       "<IPython.core.display.HTML object>"
      ]
     },
     "metadata": {},
     "output_type": "display_data"
    },
    {
     "data": {
      "text/html": [
       "<span style=\"font-family:courier;background-color:rgba(253,226,198);\">V</span> <span style=\"font-family:courier;background-color:rgba(253,192,137);\">R</span> <span style=\"font-family:courier;background-color:rgba(128,39,3);\">P</span> <span style=\"font-family:courier;background-color:rgba(253,183,121);\">E</span> <span style=\"font-family:courier;background-color:rgba(254,240,225);\">G</span> <span style=\"font-family:courier;background-color:rgba(253,178,114);\">S</span> <span style=\"font-family:courier;background-color:rgba(254,231,209);\">V</span> <span style=\"font-family:courier;background-color:rgba(253,191,135);\">S</span> <span style=\"font-family:courier;background-color:rgba(254,231,209);\">T</span> <span style=\"font-family:courier;background-color:rgba(253,211,169);\">L</span> <span style=\"font-family:courier;background-color:rgba(253,187,128);\">K</span> <span style=\"font-family:courier;background-color:rgba(253,177,113);\">I</span> <span style=\"font-family:courier;background-color:rgba(255,245,235);\">Q</span> <span style=\"font-family:courier;background-color:rgba(164,53,3);\">R</span> <span style=\"font-family:courier;background-color:rgba(127,39,4);\">T</span> <span style=\"font-family:courier;background-color:rgba(253,211,169);\">E</span> <span style=\"font-family:courier;background-color:rgba(254,238,223);\">R</span> <span style=\"font-family:courier;background-color:rgba(130,40,3);\">G</span> <span style=\"font-family:courier;background-color:rgba(253,178,114);\">D</span> <span style=\"font-family:courier;background-color:rgba(254,240,225);\">S</span> <span style=\"font-family:courier;background-color:rgba(254,231,209);\">A</span> <span style=\"font-family:courier;background-color:rgba(253,225,197);\">V</span> <span style=\"font-family:courier;background-color:rgba(253,191,135);\">Y</span> <span style=\"font-family:courier;background-color:rgba(253,162,90);\">L</span> <span style=\"font-family:courier;background-color:rgba(253,189,132);\">C</span> <span style=\"font-family:courier;background-color:rgba(253,167,97);\">A</span> <span style=\"font-family:courier;background-color:rgba(253,228,203);\">S</span> <span style=\"font-family:courier;background-color:rgba(254,231,208);\">S</span> <span style=\"font-family:courier;background-color:rgba(254,230,207);\">F</span> <span style=\"font-family:courier;background-color:rgba(253,227,200);\">D</span> <span style=\"font-family:courier;background-color:rgba(254,239,224);\">R</span> <span style=\"font-family:courier;background-color:rgba(131,40,3);\">E</span> <span style=\"font-family:courier;background-color:rgba(254,237,221);\">V</span> <span style=\"font-family:courier;background-color:rgba(253,188,130);\">T</span> <span style=\"font-family:courier;background-color:rgba(253,211,168);\">G</span> <span style=\"font-family:courier;background-color:rgba(253,177,113);\">E</span> <span style=\"font-family:courier;background-color:rgba(254,239,224);\">L</span> <span style=\"font-family:courier;background-color:rgba(253,185,125);\">F</span> <span style=\"font-family:courier;background-color:rgba(253,226,198);\">F</span> <span style=\"font-family:courier;background-color:rgba(253,227,200);\">G</span> <span style=\"font-family:courier;background-color:rgba(253,177,113);\">E</span> <span style=\"font-family:courier;background-color:rgba(254,238,223);\">G</span> <span style=\"font-family:courier;background-color:rgba(253,177,113);\">S</span> <span style=\"font-family:courier;background-color:rgba(254,231,208);\">R</span> <span style=\"font-family:courier;background-color:rgba(128,39,3);\">L</span> <span style=\"font-family:courier;background-color:rgba(253,187,128);\">T</span> <span style=\"font-family:courier;background-color:rgba(253,211,169);\">V</span> <span style=\"font-family:courier;background-color:rgba(253,192,137);\">L</span> <span style=\"font-family:courier;background-color:rgba(253,187,128);\">1</span>"
      ],
      "text/plain": [
       "<IPython.core.display.HTML object>"
      ]
     },
     "metadata": {},
     "output_type": "display_data"
    },
    {
     "data": {
      "text/html": [
       "<span style=\"font-family:courier;background-color:rgba(253,189,132);\">R</span> <span style=\"font-family:courier;background-color:rgba(128,39,3);\">P</span> <span style=\"font-family:courier;background-color:rgba(253,182,120);\">E</span> <span style=\"font-family:courier;background-color:rgba(254,239,224);\">G</span> <span style=\"font-family:courier;background-color:rgba(253,181,118);\">S</span> <span style=\"font-family:courier;background-color:rgba(254,232,210);\">V</span> <span style=\"font-family:courier;background-color:rgba(253,192,137);\">S</span> <span style=\"font-family:courier;background-color:rgba(254,231,209);\">T</span> <span style=\"font-family:courier;background-color:rgba(253,212,171);\">L</span> <span style=\"font-family:courier;background-color:rgba(253,187,128);\">K</span> <span style=\"font-family:courier;background-color:rgba(253,176,111);\">I</span> <span style=\"font-family:courier;background-color:rgba(255,245,235);\">Q</span> <span style=\"font-family:courier;background-color:rgba(164,53,3);\">R</span> <span style=\"font-family:courier;background-color:rgba(128,39,3);\">T</span> <span style=\"font-family:courier;background-color:rgba(253,211,168);\">E</span> <span style=\"font-family:courier;background-color:rgba(254,239,224);\">R</span> <span style=\"font-family:courier;background-color:rgba(127,39,4);\">G</span> <span style=\"font-family:courier;background-color:rgba(253,180,116);\">D</span> <span style=\"font-family:courier;background-color:rgba(254,239,224);\">S</span> <span style=\"font-family:courier;background-color:rgba(254,233,212);\">A</span> <span style=\"font-family:courier;background-color:rgba(253,228,203);\">V</span> <span style=\"font-family:courier;background-color:rgba(253,189,132);\">Y</span> <span style=\"font-family:courier;background-color:rgba(253,161,88);\">L</span> <span style=\"font-family:courier;background-color:rgba(253,188,130);\">P</span> <span style=\"font-family:courier;background-color:rgba(253,185,125);\">P</span> <span style=\"font-family:courier;background-color:rgba(253,184,123);\">P</span> <span style=\"font-family:courier;background-color:rgba(253,183,121);\">P</span> <span style=\"font-family:courier;background-color:rgba(253,181,118);\">P</span> <span style=\"font-family:courier;background-color:rgba(253,181,118);\">P</span> <span style=\"font-family:courier;background-color:rgba(253,184,123);\">P</span> <span style=\"font-family:courier;background-color:rgba(253,184,123);\">P</span> <span style=\"font-family:courier;background-color:rgba(253,185,125);\">P</span> <span style=\"font-family:courier;background-color:rgba(253,181,118);\">P</span> <span style=\"font-family:courier;background-color:rgba(253,178,114);\">P</span> <span style=\"font-family:courier;background-color:rgba(253,182,120);\">P</span> <span style=\"font-family:courier;background-color:rgba(253,182,120);\">P</span> <span style=\"font-family:courier;background-color:rgba(253,183,121);\">P</span> <span style=\"font-family:courier;background-color:rgba(253,181,118);\">P</span> <span style=\"font-family:courier;background-color:rgba(253,183,121);\">P</span> <span style=\"font-family:courier;background-color:rgba(253,184,123);\">P</span> <span style=\"font-family:courier;background-color:rgba(253,183,121);\">P</span> <span style=\"font-family:courier;background-color:rgba(253,182,120);\">P</span> <span style=\"font-family:courier;background-color:rgba(253,183,121);\">P</span> <span style=\"font-family:courier;background-color:rgba(253,182,120);\">P</span> <span style=\"font-family:courier;background-color:rgba(253,182,120);\">P</span> <span style=\"font-family:courier;background-color:rgba(253,183,121);\">T</span> <span style=\"font-family:courier;background-color:rgba(253,212,171);\">V</span> <span style=\"font-family:courier;background-color:rgba(253,192,137);\">L</span> <span style=\"font-family:courier;background-color:rgba(253,187,128);\">1</span>"
      ],
      "text/plain": [
       "<IPython.core.display.HTML object>"
      ]
     },
     "metadata": {},
     "output_type": "display_data"
    },
    {
     "data": {
      "text/html": [
       "<span style=\"font-family:courier;background-color:rgba(253,226,198);\">V</span> <span style=\"font-family:courier;background-color:rgba(253,192,137);\">R</span> <span style=\"font-family:courier;background-color:rgba(128,39,3);\">P</span> <span style=\"font-family:courier;background-color:rgba(253,183,121);\">E</span> <span style=\"font-family:courier;background-color:rgba(254,240,225);\">G</span> <span style=\"font-family:courier;background-color:rgba(253,178,114);\">S</span> <span style=\"font-family:courier;background-color:rgba(254,231,209);\">V</span> <span style=\"font-family:courier;background-color:rgba(253,191,135);\">S</span> <span style=\"font-family:courier;background-color:rgba(254,231,209);\">T</span> <span style=\"font-family:courier;background-color:rgba(253,211,169);\">L</span> <span style=\"font-family:courier;background-color:rgba(253,187,128);\">K</span> <span style=\"font-family:courier;background-color:rgba(253,177,113);\">I</span> <span style=\"font-family:courier;background-color:rgba(255,245,235);\">Q</span> <span style=\"font-family:courier;background-color:rgba(164,53,3);\">R</span> <span style=\"font-family:courier;background-color:rgba(127,39,4);\">T</span> <span style=\"font-family:courier;background-color:rgba(253,211,169);\">E</span> <span style=\"font-family:courier;background-color:rgba(254,238,223);\">R</span> <span style=\"font-family:courier;background-color:rgba(130,40,3);\">G</span> <span style=\"font-family:courier;background-color:rgba(253,178,114);\">D</span> <span style=\"font-family:courier;background-color:rgba(254,240,225);\">S</span> <span style=\"font-family:courier;background-color:rgba(254,231,209);\">A</span> <span style=\"font-family:courier;background-color:rgba(253,225,197);\">V</span> <span style=\"font-family:courier;background-color:rgba(253,191,135);\">Y</span> <span style=\"font-family:courier;background-color:rgba(253,162,90);\">L</span> <span style=\"font-family:courier;background-color:rgba(253,189,132);\">C</span> <span style=\"font-family:courier;background-color:rgba(253,167,97);\">A</span> <span style=\"font-family:courier;background-color:rgba(253,228,203);\">S</span> <span style=\"font-family:courier;background-color:rgba(254,231,208);\">S</span> <span style=\"font-family:courier;background-color:rgba(254,230,207);\">F</span> <span style=\"font-family:courier;background-color:rgba(253,227,200);\">D</span> <span style=\"font-family:courier;background-color:rgba(254,239,224);\">R</span> <span style=\"font-family:courier;background-color:rgba(131,40,3);\">E</span> <span style=\"font-family:courier;background-color:rgba(254,237,221);\">V</span> <span style=\"font-family:courier;background-color:rgba(253,188,130);\">T</span> <span style=\"font-family:courier;background-color:rgba(253,211,168);\">G</span> <span style=\"font-family:courier;background-color:rgba(253,177,113);\">E</span> <span style=\"font-family:courier;background-color:rgba(254,239,224);\">L</span> <span style=\"font-family:courier;background-color:rgba(253,185,125);\">F</span> <span style=\"font-family:courier;background-color:rgba(253,226,198);\">F</span> <span style=\"font-family:courier;background-color:rgba(253,227,200);\">G</span> <span style=\"font-family:courier;background-color:rgba(253,177,113);\">E</span> <span style=\"font-family:courier;background-color:rgba(254,238,223);\">G</span> <span style=\"font-family:courier;background-color:rgba(253,177,113);\">S</span> <span style=\"font-family:courier;background-color:rgba(254,231,208);\">R</span> <span style=\"font-family:courier;background-color:rgba(128,39,3);\">L</span> <span style=\"font-family:courier;background-color:rgba(253,187,128);\">T</span> <span style=\"font-family:courier;background-color:rgba(253,211,169);\">V</span> <span style=\"font-family:courier;background-color:rgba(253,192,137);\">L</span> <span style=\"font-family:courier;background-color:rgba(253,187,128);\">1</span>"
      ],
      "text/plain": [
       "<IPython.core.display.HTML object>"
      ]
     },
     "metadata": {},
     "output_type": "display_data"
    },
    {
     "data": {
      "text/html": [
       "<span style=\"font-family:courier;background-color:rgba(253,226,198);\">V</span> <span style=\"font-family:courier;background-color:rgba(253,192,137);\">R</span> <span style=\"font-family:courier;background-color:rgba(128,39,3);\">P</span> <span style=\"font-family:courier;background-color:rgba(253,183,121);\">E</span> <span style=\"font-family:courier;background-color:rgba(254,240,225);\">G</span> <span style=\"font-family:courier;background-color:rgba(253,178,114);\">S</span> <span style=\"font-family:courier;background-color:rgba(254,231,209);\">V</span> <span style=\"font-family:courier;background-color:rgba(253,191,135);\">S</span> <span style=\"font-family:courier;background-color:rgba(254,231,209);\">T</span> <span style=\"font-family:courier;background-color:rgba(253,211,169);\">L</span> <span style=\"font-family:courier;background-color:rgba(253,187,128);\">K</span> <span style=\"font-family:courier;background-color:rgba(253,177,113);\">I</span> <span style=\"font-family:courier;background-color:rgba(255,245,235);\">Q</span> <span style=\"font-family:courier;background-color:rgba(164,53,3);\">R</span> <span style=\"font-family:courier;background-color:rgba(127,39,4);\">T</span> <span style=\"font-family:courier;background-color:rgba(253,211,169);\">E</span> <span style=\"font-family:courier;background-color:rgba(254,238,223);\">R</span> <span style=\"font-family:courier;background-color:rgba(130,40,3);\">G</span> <span style=\"font-family:courier;background-color:rgba(253,178,114);\">D</span> <span style=\"font-family:courier;background-color:rgba(254,240,225);\">S</span> <span style=\"font-family:courier;background-color:rgba(254,231,209);\">A</span> <span style=\"font-family:courier;background-color:rgba(253,225,197);\">V</span> <span style=\"font-family:courier;background-color:rgba(253,191,135);\">Y</span> <span style=\"font-family:courier;background-color:rgba(253,162,90);\">L</span> <span style=\"font-family:courier;background-color:rgba(253,189,132);\">C</span> <span style=\"font-family:courier;background-color:rgba(253,167,97);\">A</span> <span style=\"font-family:courier;background-color:rgba(253,228,203);\">S</span> <span style=\"font-family:courier;background-color:rgba(254,231,208);\">S</span> <span style=\"font-family:courier;background-color:rgba(254,230,207);\">F</span> <span style=\"font-family:courier;background-color:rgba(253,227,200);\">D</span> <span style=\"font-family:courier;background-color:rgba(254,239,224);\">R</span> <span style=\"font-family:courier;background-color:rgba(131,40,3);\">E</span> <span style=\"font-family:courier;background-color:rgba(254,237,221);\">V</span> <span style=\"font-family:courier;background-color:rgba(253,188,130);\">T</span> <span style=\"font-family:courier;background-color:rgba(253,211,168);\">G</span> <span style=\"font-family:courier;background-color:rgba(253,177,113);\">E</span> <span style=\"font-family:courier;background-color:rgba(254,239,224);\">L</span> <span style=\"font-family:courier;background-color:rgba(253,185,125);\">F</span> <span style=\"font-family:courier;background-color:rgba(253,226,198);\">F</span> <span style=\"font-family:courier;background-color:rgba(253,227,200);\">G</span> <span style=\"font-family:courier;background-color:rgba(253,177,113);\">E</span> <span style=\"font-family:courier;background-color:rgba(254,238,223);\">G</span> <span style=\"font-family:courier;background-color:rgba(253,177,113);\">S</span> <span style=\"font-family:courier;background-color:rgba(254,231,208);\">R</span> <span style=\"font-family:courier;background-color:rgba(128,39,3);\">L</span> <span style=\"font-family:courier;background-color:rgba(253,187,128);\">T</span> <span style=\"font-family:courier;background-color:rgba(253,211,169);\">V</span> <span style=\"font-family:courier;background-color:rgba(253,192,137);\">L</span> <span style=\"font-family:courier;background-color:rgba(253,187,128);\">1</span>"
      ],
      "text/plain": [
       "<IPython.core.display.HTML object>"
      ]
     },
     "metadata": {},
     "output_type": "display_data"
    },
    {
     "data": {
      "text/html": [
       "<span style=\"font-family:courier;background-color:rgba(253,226,198);\">V</span> <span style=\"font-family:courier;background-color:rgba(253,192,137);\">R</span> <span style=\"font-family:courier;background-color:rgba(128,39,3);\">P</span> <span style=\"font-family:courier;background-color:rgba(253,183,121);\">E</span> <span style=\"font-family:courier;background-color:rgba(254,240,225);\">G</span> <span style=\"font-family:courier;background-color:rgba(253,178,114);\">S</span> <span style=\"font-family:courier;background-color:rgba(254,231,209);\">V</span> <span style=\"font-family:courier;background-color:rgba(253,191,135);\">S</span> <span style=\"font-family:courier;background-color:rgba(254,231,209);\">T</span> <span style=\"font-family:courier;background-color:rgba(253,211,169);\">L</span> <span style=\"font-family:courier;background-color:rgba(253,187,128);\">K</span> <span style=\"font-family:courier;background-color:rgba(253,177,113);\">I</span> <span style=\"font-family:courier;background-color:rgba(255,245,235);\">Q</span> <span style=\"font-family:courier;background-color:rgba(164,53,3);\">R</span> <span style=\"font-family:courier;background-color:rgba(127,39,4);\">T</span> <span style=\"font-family:courier;background-color:rgba(253,211,169);\">E</span> <span style=\"font-family:courier;background-color:rgba(254,238,223);\">R</span> <span style=\"font-family:courier;background-color:rgba(130,40,3);\">G</span> <span style=\"font-family:courier;background-color:rgba(253,178,114);\">D</span> <span style=\"font-family:courier;background-color:rgba(254,240,225);\">S</span> <span style=\"font-family:courier;background-color:rgba(254,231,209);\">A</span> <span style=\"font-family:courier;background-color:rgba(253,225,197);\">V</span> <span style=\"font-family:courier;background-color:rgba(253,191,135);\">Y</span> <span style=\"font-family:courier;background-color:rgba(253,162,90);\">L</span> <span style=\"font-family:courier;background-color:rgba(253,189,132);\">C</span> <span style=\"font-family:courier;background-color:rgba(253,167,97);\">A</span> <span style=\"font-family:courier;background-color:rgba(253,228,203);\">S</span> <span style=\"font-family:courier;background-color:rgba(254,231,208);\">S</span> <span style=\"font-family:courier;background-color:rgba(254,230,207);\">F</span> <span style=\"font-family:courier;background-color:rgba(253,227,200);\">D</span> <span style=\"font-family:courier;background-color:rgba(254,239,224);\">R</span> <span style=\"font-family:courier;background-color:rgba(131,40,3);\">E</span> <span style=\"font-family:courier;background-color:rgba(254,237,221);\">V</span> <span style=\"font-family:courier;background-color:rgba(253,188,130);\">T</span> <span style=\"font-family:courier;background-color:rgba(253,211,168);\">G</span> <span style=\"font-family:courier;background-color:rgba(253,177,113);\">E</span> <span style=\"font-family:courier;background-color:rgba(254,239,224);\">L</span> <span style=\"font-family:courier;background-color:rgba(253,185,125);\">F</span> <span style=\"font-family:courier;background-color:rgba(253,226,198);\">F</span> <span style=\"font-family:courier;background-color:rgba(253,227,200);\">G</span> <span style=\"font-family:courier;background-color:rgba(253,177,113);\">E</span> <span style=\"font-family:courier;background-color:rgba(254,238,223);\">G</span> <span style=\"font-family:courier;background-color:rgba(253,177,113);\">S</span> <span style=\"font-family:courier;background-color:rgba(254,231,208);\">R</span> <span style=\"font-family:courier;background-color:rgba(128,39,3);\">L</span> <span style=\"font-family:courier;background-color:rgba(253,187,128);\">T</span> <span style=\"font-family:courier;background-color:rgba(253,211,169);\">V</span> <span style=\"font-family:courier;background-color:rgba(253,192,137);\">L</span> <span style=\"font-family:courier;background-color:rgba(253,187,128);\">1</span>"
      ],
      "text/plain": [
       "<IPython.core.display.HTML object>"
      ]
     },
     "metadata": {},
     "output_type": "display_data"
    }
   ],
   "source": [
    "for i in [0,1,2,3,4,5,6,7]:\n",
    "    seq  = ''.join(tokens[i])\n",
    "    att = tcr_attention[i][cutoff:]\n",
    "    col = find_colors(att, True)\n",
    "    starts = []\n",
    "    stops = []\n",
    "    display(HTML(highlight_text(seq,  col, starts, stops)))"
   ]
  }
 ],
 "metadata": {
  "interpreter": {
   "hash": "c61ef3b81f796c4351dd2417d3de9ec957c7e1ff8824ddf99e5100ca7c070199"
  },
  "kernelspec": {
   "display_name": "Python 3.7.10 ('titan')",
   "language": "python",
   "name": "python3"
  },
  "language_info": {
   "codemirror_mode": {
    "name": "ipython",
    "version": 3
   },
   "file_extension": ".py",
   "mimetype": "text/x-python",
   "name": "python",
   "nbconvert_exporter": "python",
   "pygments_lexer": "ipython3",
   "version": "3.7.10"
  },
  "orig_nbformat": 4
 },
 "nbformat": 4,
 "nbformat_minor": 2
}
